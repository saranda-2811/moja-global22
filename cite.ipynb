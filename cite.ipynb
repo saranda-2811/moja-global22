{
  "nbformat": 4,
  "nbformat_minor": 0,
  "metadata": {
    "colab": {
      "name": "cite.ipynb",
      "provenance": []
    },
    "kernelspec": {
      "name": "python3",
      "display_name": "Python 3"
    },
    "language_info": {
      "name": "python"
    }
  },
  "cells": [
    {
      "cell_type": "markdown",
      "source": [
        "[Adding references](https://jupyter.brynmawr.edu/services/public/dblank/jupyter.cs/Examples/Calico%20Document%20Tools%20and%20Bibtex.ipynb) inside a notebook using calico"
      ],
      "metadata": {
        "id": "r0Y3_6q5BOkV"
      }
    },
    {
      "cell_type": "code",
      "source": [
        "pip install calico"
      ],
      "metadata": {
        "colab": {
          "base_uri": "https://localhost:8080/"
        },
        "id": "O9zm0WnwfwC3",
        "outputId": "c501f538-af98-47a5-897e-819f9c8aab40"
      },
      "execution_count": 2,
      "outputs": [
        {
          "output_type": "stream",
          "name": "stdout",
          "text": [
            "Collecting calico\n",
            "  Downloading calico-1.2.0-py2.py3-none-any.whl (36 kB)\n",
            "Collecting ruamel.yaml<0.16.0,>=0.15.41\n",
            "  Downloading ruamel.yaml-0.15.100-cp37-cp37m-manylinux1_x86_64.whl (654 kB)\n",
            "\u001b[K     |████████████████████████████████| 654 kB 7.7 MB/s \n",
            "\u001b[?25hRequirement already satisfied: pexpect<5.0,>=4.6 in /usr/local/lib/python3.7/dist-packages (from calico) (4.8.0)\n",
            "Requirement already satisfied: ptyprocess>=0.5 in /usr/local/lib/python3.7/dist-packages (from pexpect<5.0,>=4.6->calico) (0.7.0)\n",
            "Installing collected packages: ruamel.yaml, calico\n",
            "Successfully installed calico-1.2.0 ruamel.yaml-0.15.100\n"
          ]
        }
      ]
    },
    {
      "cell_type": "code",
      "source": [
        "'''\n",
        "adding the following in markdown adds this as a reference which can be used in any part of the notebook.\n",
        "\n",
        "\n",
        "<!--bibtex\n",
        "\n",
        "@Article{PER-GRA:2007,\n",
        "  Author    = {P\\'erez, Fernando and Granger, Brian E.},\n",
        "  Title     = {{IP}ython: a System for Interactive Scientific Computing},\n",
        "  Journal   = {Computing in Science and Engineering},\n",
        "  Volume    = {9},\n",
        "  Number    = {3},\n",
        "  Pages     = {21--29},\n",
        "  month     = may,\n",
        "  year      = 2007,\n",
        "  url       = \"http://ipython.org\",\n",
        "  ISSN      = \"1521-9615\",\n",
        "  doi       = {10.1109/MCSE.2007.53},\n",
        "  publisher = {IEEE Computer Society},\n",
        "}\n",
        "\n",
        "-->\n",
        "\n",
        "And it can be cited as shown below, in markdown(respectively)\n",
        "\n",
        "<a name=\"ref-1\"/>[(Pérez and Granger, 2007)](#cite-PER-GRA:2007)\n",
        "\n",
        "or\n",
        "\n",
        "[cite](#cite-PER-GRA:2007)\n",
        "\n",
        "'''"
      ],
      "metadata": {
        "id": "Ul7ceVyeAOP1"
      },
      "execution_count": null,
      "outputs": []
    },
    {
      "cell_type": "markdown",
      "source": [
        "<!--bibtex\n",
        "\n",
        "@Article{PER-GRA:2007,\n",
        "  Author    = {P\\'erez, Fernando and Granger, Brian E.},\n",
        "  Title     = {{IP}ython: a System for Interactive Scientific Computing},\n",
        "  Journal   = {Computing in Science and Engineering},\n",
        "  Volume    = {9},\n",
        "  Number    = {3},\n",
        "  Pages     = {21--29},\n",
        "  month     = may,\n",
        "  year      = 2007,\n",
        "  url       = \"http://ipython.org\",\n",
        "  ISSN      = \"1521-9615\",\n",
        "  doi       = {10.1109/MCSE.2007.53},\n",
        "  publisher = {IEEE Computer Society},\n",
        "}\n",
        "\n",
        "-->"
      ],
      "metadata": {
        "id": "KApwceOBgEIf"
      }
    },
    {
      "cell_type": "markdown",
      "source": [
        "<a name=\"ref-1\"/>[(Pérez and Granger, 2007)](#cite-PER-GRA:2007)"
      ],
      "metadata": {
        "id": "8nhnnDk5inPl"
      }
    },
    {
      "cell_type": "markdown",
      "source": [
        "[cite](#cite-PER-GRA:2007)"
      ],
      "metadata": {
        "id": "ovJ-aNXdi02V"
      }
    }
  ]
}
